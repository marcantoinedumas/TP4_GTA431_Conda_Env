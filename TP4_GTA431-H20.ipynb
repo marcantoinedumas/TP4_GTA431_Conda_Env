{
 "cells": [
  {
   "cell_type": "markdown",
   "metadata": {},
   "source": [
    "# TP4 - Analyse de données ouvertes de la ville de Montréal - Criminalité\n",
    "Voici la source de nos donnees http://donnees.ville.montreal.qc.ca/dataset/actes-criminels\n",
    "\n",
    "*Nous avons du separer les donnees en deux fichiers csv, car le fichier etait trop lourd, donc pycharm ne voulait pas le traiter.\n",
    "\n",
    "## Introduction :\n",
    "Avec la situation de pandémie actuelle, nous trouvions intéressant de comparer l’effet de la crise sur le taux de criminalité de la ville de Montréal. Nous avons choisi la ville de Montréal puisque c’est la ville avec les données les plus à jour que nous avions de disponibles. Notre analyse porte sur la quantité de crimes reporté à la SPVM. Afin d’évaluer le possible impacte du Covid-19 sur ceux-ci, nous observerons la répartition des crimes totaux sur le premier quadrimestre de 2019 (année de référence) et de 2020, en plus de calculer le Khi-deux pour en évaluer la relation.\n",
    "\n",
    "On tente donc de démontrer que le confinement à un lien avec la diminution du nombre de crimes sur l'ile de Montréal en comparant avec les données à pareille date l'an dernier.\n"
   ]
  },
  {
   "cell_type": "markdown",
   "metadata": {},
   "source": [
    "## Voici les étapes que nous avons fait afin de faire notre analyse :"
   ]
  },
  {
   "cell_type": "code",
   "execution_count": 1,
   "metadata": {},
   "outputs": [],
   "source": [
    "# On commence ici par importer les extentions dont nous allons avoir besoin au cours de notre analyse.\n",
    "import pandas\n",
    "import matplotlib.pyplot as plt\n",
    "from scipy import stats"
   ]
  },
  {
   "cell_type": "markdown",
   "metadata": {},
   "source": [
    "Les données utilisées pour notre travail ont été récuppérées sur le site de la ville de Montréal : http://donnees.ville.montreal.qc.ca/dataset/actes-criminels"
   ]
  },
  {
   "cell_type": "code",
   "execution_count": 2,
   "metadata": {},
   "outputs": [],
   "source": [
    "# Définition des fonctions\n",
    "## La fonction imprimer_histogramme nous serviras à afficher l'histogramme selon les différents paramètres qui seront utiles.\n",
    "def imprimer_histogramme(data_frame, titre, axe_des_X=None, axe_des_Y=None, ajustement_bas=None, ajustement_haut=None, ajustement_gauche=None, ajustement_droite=None):\n",
    "    data_frame.plot(kind=\"bar\", title=titre)\n",
    "    plt.xlabel(axe_des_X)  # On nomme l'axe des X\n",
    "    plt.ylabel(axe_des_Y)  # On nomme l'axe des Y\n",
    "    plt.subplots_adjust(bottom=ajustement_bas, top=ajustement_haut, left=ajustement_gauche, right=ajustement_droite)  # On ajuste les dimensions du graphique afin de bien afficher les titres\n",
    "    return plt.show()  # On fait afficher l'histogramme\n",
    "\n",
    "## La fonction imprimer statistiques qui fait seulement un describe sur un dataframe. Ceci est plus pour l'esthétique qu'autre choses.\n",
    "def imprimer_statistiques(data_frame):\n",
    "    print(data_frame.describe())"
   ]
  },
  {
   "cell_type": "code",
   "execution_count": 3,
   "metadata": {},
   "outputs": [],
   "source": [
    "# Avec pandas, on lis les donnees du csv de 2019 et 2020.\n",
    "donnees_criminalite_2019 = pandas.read_csv(\"donnees_criminalite_csv_2019.csv\", delimiter=\";\", parse_dates=[\"DATE\"])\n",
    "donnees_criminalite_2020 = pandas.read_csv(\"donnees_criminalite_csv_2020.csv\", delimiter=\";\", parse_dates=[\"DATE\"])"
   ]
  },
  {
   "cell_type": "code",
   "execution_count": 4,
   "metadata": {},
   "outputs": [],
   "source": [
    "# Ensuite, on met les données dans un dataframe afin de pouvoir les utiliser dans nos analyses\n",
    "donnees_criminalite_2019_data_frame = pandas.DataFrame(data=donnees_criminalite_2019)  # 2019\n",
    "donnees_criminalite_2020_data_frame = pandas.DataFrame(data=donnees_criminalite_2020)  # 2020"
   ]
  },
  {
   "cell_type": "code",
   "execution_count": 5,
   "metadata": {},
   "outputs": [],
   "source": [
    "# On utilise la fonction drop afin d'enlever les colones inutiles dans notre data frame\n",
    "donnees_criminalite_2019_data_frame = pandas.DataFrame.drop(donnees_criminalite_2019_data_frame, columns= [\"PDQ\", \"X\", \"Y\", \"LONGITUDE\", \"LATITUDE\"])  # 2019\n",
    "donnees_criminalite_2020_data_frame = pandas.DataFrame.drop(donnees_criminalite_2020_data_frame, columns= [\"PDQ\", \"X\", \"Y\", \"LONGITUDE\", \"LATITUDE\"])  # 2020"
   ]
  },
  {
   "cell_type": "code",
   "execution_count": 6,
   "metadata": {},
   "outputs": [],
   "source": [
    "# Étant donné que notre analyses sera sur une base mensuelle, nous allons convertir le format date actuel en mois uniquement.\n",
    "# NOTE : Il en va de soi que 1 = Janvier, 2 = Février, 3= Mars, 4= Avril, etc.\n",
    "pandas.DataFrame(donnees_criminalite_2019_data_frame)['DATE'] = pandas.DataFrame(donnees_criminalite_2019_data_frame)['DATE'].dt.month  # 2019\n",
    "pandas.DataFrame(donnees_criminalite_2020_data_frame)['DATE'] = pandas.DataFrame(donnees_criminalite_2020_data_frame)['DATE'].dt.month  # 2020"
   ]
  },
  {
   "cell_type": "markdown",
   "metadata": {},
   "source": [
    "## ANALYSE - comparaison des données de criminalité avant et pendant la pandémie\n",
    "\n",
    "Avec la situation de pandémie actuelle, nous trouvions intéressant de comparer l’effet de la crise sur le taux de criminalité de la ville de Montréal. Nous avons choisi la ville de Montréal puisque c’est la ville avec les données les plus à jour que nous avions de disponibles. Notre analyse porte sur la quantité de crimes reporté à la SPVM. Afin d’évaluer le possible impacte du Covid-19 sur ceux-ci, nous observerons la répartition des crimes totaux sur le premier quadrimestre de 2019 (année de référence) et de 2020, en plus de calculer le Khi-deux pour en évaluer la relation.\n",
    "\n",
    "On tente donc de démontrer que le confinement à un lien avec la diminution du nombre de crimes sur l'ile de Montréal en comparant avec les données à pareille date l'an dernier."
   ]
  },
  {
   "cell_type": "code",
   "execution_count": 7,
   "metadata": {},
   "outputs": [],
   "source": [
    "# On groupe les données ensemble en utilisant le \"groupby\" et la fonction aggregate pour calculer le nombre de crimes par mois pour 2019.\n",
    "crimes_mensuel_2019_data_frame = pandas.DataFrame(donnees_criminalite_2019_data_frame).groupby(['DATE']).agg(\n",
    "    Nb_Infraction_par_mois_2019=('CATEGORIE', \"count\"))  # 2019\n",
    "\n",
    "# Afficher seulement les 4 premiers mois de 2019 pour comparer avec les 4 premiers mois de 2020.\n",
    "crimes_mensuel_2019_data_frame = pandas.DataFrame(crimes_mensuel_2019_data_frame).drop(crimes_mensuel_2019_data_frame.index[4:12])\n",
    "\n",
    "# On groupe les données ensemble en utilisant le \"groupby\" et la fonction aggregate pour calculer le nombre de crimes par mois pour 2020.\n",
    "crimes_mensuel_2020_data_frame = pandas.DataFrame(donnees_criminalite_2020_data_frame).groupby(['DATE']).agg(\n",
    "    Nb_Infraction_par_mois_2020=('CATEGORIE', \"count\"))  # 2020"
   ]
  },
  {
   "cell_type": "code",
   "execution_count": 8,
   "metadata": {},
   "outputs": [],
   "source": [
    "# Avec la fonction \"merge\", on regroupe le dataframe de 2019 avec celui de 2020 afin de mieux analyser les données.\n",
    "crimes_mensuels_2019_2020_data_frame_merged = pandas.merge(left=crimes_mensuel_2019_data_frame, right=crimes_mensuel_2020_data_frame, on='DATE')"
   ]
  },
  {
   "cell_type": "code",
   "execution_count": 9,
   "metadata": {},
   "outputs": [
    {
     "data": {
      "image/png": "[encoded data removed]",
      "text/plain": [
       "<Figure size 432x288 with 1 Axes>"
      ]
     },
     "metadata": {
      "needs_background": "light"
     },
     "output_type": "display_data"
    }
   ],
   "source": [
    "# Avec le package matplotlib.pyplot, nous allons représenter graphiquement les données afin de mieux les comparer.\n",
    "## ANNÉE 2019-2020 (Janvier à Avril) - Nous utilisons les données que nous avons regroupé plus tôt. Nous appelons la fonction définie au début du code afin d'afficher un histogramme.\n",
    "imprimer_histogramme(data_frame=crimes_mensuels_2019_2020_data_frame_merged, titre=\"Répartition des actes criminels mensuels sur le territoire \\n de Montréal de Janvier à Avril 2019 et 2020\",\n",
    "                     axe_des_X=\"Mois\", axe_des_Y=\"Nombre d'actes criminels\")"
   ]
  },
  {
   "cell_type": "code",
   "execution_count": 10,
   "metadata": {},
   "outputs": [
    {
     "name": "stdout",
     "output_type": "stream",
     "text": [
      "       Nb_Infraction_par_mois_2019  Nb_Infraction_par_mois_2020\n",
      "count                     4.000000                     4.000000\n",
      "mean                   2056.500000                  1788.250000\n",
      "std                     252.866895                   599.875751\n",
      "min                    1839.000000                   902.000000\n",
      "25%                    1850.250000                  1691.000000\n",
      "50%                    2016.500000                  2021.500000\n",
      "75%                    2222.750000                  2118.750000\n",
      "max                    2354.000000                  2208.000000\n"
     ]
    }
   ],
   "source": [
    "# Nous imprimons les statistiques générales que nous allons pouvoir analyser.\n",
    "imprimer_statistiques(crimes_mensuels_2019_2020_data_frame_merged) # Appel la fonction définie plus haut"
   ]
  },
  {
   "cell_type": "code",
   "execution_count": 11,
   "metadata": {},
   "outputs": [
    {
     "name": "stdout",
     "output_type": "stream",
     "text": [
      "      Nb_Infraction_par_mois_2019  Nb_Infraction_par_mois_2020\n",
      "DATE                                                          \n",
      "1                            1839                         2208\n",
      "2                            1854                         2089\n",
      "3                            2179                         1954\n",
      "4                            2354                          902\n"
     ]
    }
   ],
   "source": [
    "# Nous imprimons le tableau de données agrégé\n",
    "print(crimes_mensuels_2019_2020_data_frame_merged)"
   ]
  },
  {
   "cell_type": "code",
   "execution_count": 12,
   "metadata": {},
   "outputs": [],
   "source": [
    "# On crée une liste avec les données mensuelles du premier quadrimestre de chaque année\n",
    "liste_crimes_mensuel_2019 = crimes_mensuel_2019_data_frame['Nb_Infraction_par_mois_2019'].to_list()\n",
    "liste_crimes_mensuel_2020 = crimes_mensuel_2020_data_frame['Nb_Infraction_par_mois_2020'].to_list()"
   ]
  },
  {
   "cell_type": "code",
   "execution_count": 13,
   "metadata": {},
   "outputs": [
    {
     "name": "stdout",
     "output_type": "stream",
     "text": [
      "0.28\n"
     ]
    }
   ],
   "source": [
    "# On calcule et on affiche la variation de janvier à avril pour 2019\n",
    "variation_janvier_a_avril_2019 = round((liste_crimes_mensuel_2019[3] - liste_crimes_mensuel_2019[0]) / liste_crimes_mensuel_2019[0], 4)\n",
    "print(variation_janvier_a_avril_2019)"
   ]
  },
  {
   "cell_type": "code",
   "execution_count": 14,
   "metadata": {},
   "outputs": [
    {
     "name": "stdout",
     "output_type": "stream",
     "text": [
      "-0.5915\n"
     ]
    }
   ],
   "source": [
    "# On calcule et on affiche la variation de janvier à avril pour 2020\n",
    "variation_janvier_a_avril_2020 = round((liste_crimes_mensuel_2020[3] - liste_crimes_mensuel_2020[0]) / liste_crimes_mensuel_2020[0], 4)\n",
    "print(variation_janvier_a_avril_2020)"
   ]
  },
  {
   "cell_type": "code",
   "execution_count": 15,
   "metadata": {},
   "outputs": [
    {
     "name": "stdout",
     "output_type": "stream",
     "text": [
      "-0.5384\n"
     ]
    }
   ],
   "source": [
    "# On calcule et on affiche la variation de mars à avril pour 2020\n",
    "variation_mars_avril_2020 = round((liste_crimes_mensuel_2020[3] - liste_crimes_mensuel_2020[2]) / liste_crimes_mensuel_2020[2], 4)\n",
    "print(variation_mars_avril_2020)"
   ]
  },
  {
   "cell_type": "code",
   "execution_count": 16,
   "metadata": {},
   "outputs": [
    {
     "name": "stdout",
     "output_type": "stream",
     "text": [
      "Power_divergenceResult(statistic=1022.687032865224, pvalue=2.155598792122454e-221)\n"
     ]
    }
   ],
   "source": [
    "# On calcul et on imprime le khi2 et la valeur p ; hypothèse - les crimes de 2019 se répartissent normalement d'année en année\n",
    "print(stats.chisquare(liste_crimes_mensuel_2020, liste_crimes_mensuel_2019))"
   ]
  },
  {
   "cell_type": "markdown",
   "metadata": {},
   "source": [
    "## ANALYSE - comparaison des données de criminalité avant et pendant la pandémie\n",
    "\n",
    "En 2019, le nombre d’actes criminels augmente de progressivement à chaque mois au cours des quatre premier mois de l’année. En 2020, c’est l’inverse qui se produit avec une diminution de 59,15% entre janvier et avril. Si l’on compare à l’augmentation de 28% qui a été mesuré pour les mêmes mois de 2019, on peut dire qu’il y a une différence significative entre les deux. Mieux encore, si l’on porte attention au mois d’avril, on peut voir que la diminution la plus importante se fait ressentir après que les mesures de confinement aient été mis en place avec une diminution de 53,84% entre le mois de mars et le mois d’avril. De plus, il est possible d’observer une divergence des moyennes entre le premier quadrimestre de 2019 et 2020, soit respectivement 2056 et 1788 crimes.. Cette variation est dû à la baisse des crimes enregistrés en avril 2020.\n",
    "\n",
    "Pour évaluer l’impacte du Covid-19 sur les crimes, nous avons évalué les données extraites des 4 premiers mois de 2019 et de 2020. Notre hypothèse est que les crimes des 4 premiers mois de chaque années se répartissent normalement et pour ainsi dire, chaque début d’année se ressemble. Notre H0 = donc que le covid n’a aucune incidence sur les crimes reportés (si les données suivent 2019) et H1 = Le covid a une incidence sur les crimes reportés. En utilisant la fonction stats.chisquare on obtient le x2 de 1022.69, avec quoi nous obtenons une valeur-p de 2.1556e-221 et donc, puisqu’il y a moins de 0,01% de chance que les données se répartissent comme elle le font présentement, l’hypothèse H0 est rejetée. Le Covid-19 a donc une incidence sur les crimes dans la ville de Montréal."
   ]
  }
 ],
 "metadata": {
  "kernelspec": {
   "display_name": "Python 3",
   "language": "python",
   "name": "python3"
  },
  "language_info": {
   "codemirror_mode": {
    "name": "ipython",
    "version": 3
   },
   "file_extension": ".py",
   "mimetype": "text/x-python",
   "name": "python",
   "nbconvert_exporter": "python",
   "pygments_lexer": "ipython3",
   "version": "3.7.6"
  }
 },
 "nbformat": 4,
 "nbformat_minor": 4
}
